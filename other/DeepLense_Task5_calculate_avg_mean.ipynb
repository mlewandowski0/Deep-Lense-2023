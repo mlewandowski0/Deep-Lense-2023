{
 "cells": [
  {
   "cell_type": "code",
   "execution_count": 1,
   "metadata": {},
   "outputs": [],
   "source": [
    "import os \n",
    "from tqdm import tqdm\n",
    "import torchvision\n",
    "import numpy as np"
   ]
  },
  {
   "cell_type": "code",
   "execution_count": 2,
   "metadata": {},
   "outputs": [],
   "source": [
    "names = []\n",
    "for root, dirs, files in os.walk(os.path.join(\"..\", \"data\",\"lenses\"), topdown=False):\n",
    "   for name in files:\n",
    "      names.append(os.path.join(root, name))"
   ]
  },
  {
   "cell_type": "code",
   "execution_count": 3,
   "metadata": {},
   "outputs": [
    {
     "name": "stdout",
     "output_type": "stream",
     "text": [
      "..\\data\\lenses\\no_sub\\image_100108096845777232664144315147734473464.jpg\n",
      "10000\n"
     ]
    }
   ],
   "source": [
    "print(names[0])\n",
    "print(len(names))"
   ]
  },
  {
   "cell_type": "code",
   "execution_count": 4,
   "metadata": {},
   "outputs": [
    {
     "name": "stdout",
     "output_type": "stream",
     "text": [
      "10000\n"
     ]
    }
   ],
   "source": [
    "print(len(names))"
   ]
  },
  {
   "cell_type": "code",
   "execution_count": 13,
   "metadata": {},
   "outputs": [
    {
     "name": "stderr",
     "output_type": "stream",
     "text": [
      "100%|██████████| 10000/10000 [00:04<00:00, 2090.76it/s]\n",
      "100%|██████████| 10000/10000 [00:04<00:00, 2156.43it/s]"
     ]
    },
    {
     "name": "stdout",
     "output_type": "stream",
     "text": [
      "minima in data : 0.0, maxima in data 1.0\n"
     ]
    },
    {
     "name": "stderr",
     "output_type": "stream",
     "text": [
      "\n"
     ]
    },
    {
     "data": {
      "text/plain": [
       "(0.022538540984749413, 0.06030143571638838)"
      ]
     },
     "execution_count": 13,
     "metadata": {},
     "output_type": "execute_result"
    }
   ],
   "source": [
    "def calculate_mean_std_2pass_low_memory(directory):\n",
    "    names = []\n",
    "    for root, dirs, files in os.walk(directory, topdown=False):\n",
    "        for name in files:\n",
    "            names.append(os.path.join(root, name))\n",
    "\n",
    "    minima = float(\"inf\")\n",
    "    maxima = float(\"-inf\")\n",
    "    counts = 0\n",
    "    means = 0\n",
    "    for f in tqdm(names):\n",
    "        try:\n",
    "            mat = torchvision.io.read_image(f).numpy() / 255.\n",
    "            mat = mat.reshape(mat.shape[1], mat.shape[2])\n",
    "            v=  mat.shape[0] * mat.shape[1]\n",
    "            counts += np.array(v)\n",
    "            means += np.sum(mat.reshape(-1), axis=0)\n",
    "            minima = min(minima, np.min(mat.reshape(-1)))\n",
    "            maxima = max(maxima, np.max(mat.reshape(-1)))\n",
    "            \n",
    "        except ValueError:\n",
    "            pass\n",
    "\n",
    "    means = means / counts\n",
    "\n",
    "    stds = 0\n",
    "    for f in tqdm(names):\n",
    "        try:\n",
    "            mat = torchvision.io.read_image(f).numpy() / 255.\n",
    "            stds += np.sum( (mat.reshape(-1) - means)**2, axis=0)\n",
    "        except ValueError:\n",
    "            pass\n",
    "    stds = np.sqrt( stds / counts ) \n",
    "\n",
    "    print(f\"minima in data : {minima}, maxima in data {maxima}\")\n",
    "    return means, stds\n",
    "\n",
    "calculate_mean_std_2pass_low_memory(os.path.join(\"..\",\"data\", \"lenses\"))"
   ]
  },
  {
   "cell_type": "code",
   "execution_count": null,
   "metadata": {},
   "outputs": [],
   "source": []
  }
 ],
 "metadata": {
  "kernelspec": {
   "display_name": "Python 3",
   "language": "python",
   "name": "python3"
  },
  "language_info": {
   "codemirror_mode": {
    "name": "ipython",
    "version": 3
   },
   "file_extension": ".py",
   "mimetype": "text/x-python",
   "name": "python",
   "nbconvert_exporter": "python",
   "pygments_lexer": "ipython3",
   "version": "3.9.13"
  },
  "orig_nbformat": 4
 },
 "nbformat": 4,
 "nbformat_minor": 2
}
