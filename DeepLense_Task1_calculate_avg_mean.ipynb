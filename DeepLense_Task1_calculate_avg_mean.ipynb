{
 "cells": [
  {
   "cell_type": "code",
   "execution_count": 1,
   "metadata": {},
   "outputs": [],
   "source": [
    "import os \n",
    "from tqdm import tqdm\n",
    "import sparse\n",
    "import numpy as np"
   ]
  },
  {
   "cell_type": "code",
   "execution_count": 2,
   "metadata": {},
   "outputs": [],
   "source": [
    "names = []\n",
    "for root, dirs, files in os.walk(os.path.join(\"dataset\",\"train\"), topdown=False):\n",
    "   for name in files:\n",
    "      names.append(os.path.join(root, name))"
   ]
  },
  {
   "cell_type": "code",
   "execution_count": 5,
   "metadata": {},
   "outputs": [
    {
     "name": "stdout",
     "output_type": "stream",
     "text": [
      "dataset/train/sphere/1677.npy\n",
      "30001\n"
     ]
    }
   ],
   "source": [
    "print(names[0])\n",
    "print(len(names))"
   ]
  },
  {
   "cell_type": "code",
   "execution_count": 14,
   "metadata": {},
   "outputs": [
    {
     "name": "stderr",
     "output_type": "stream",
     "text": [
      "100%|██████████| 30001/30001 [00:06<00:00, 4555.32it/s]\n",
      "100%|██████████| 30001/30001 [00:06<00:00, 4441.95it/s]\n"
     ]
    },
    {
     "data": {
      "text/plain": [
       "(0.06169275318411914, 0.1172684106873827)"
      ]
     },
     "execution_count": 14,
     "metadata": {},
     "output_type": "execute_result"
    }
   ],
   "source": [
    "def calculate_mean_std_2pass_low_memory(directory):\n",
    "    names = []\n",
    "    for root, dirs, files in os.walk(directory, topdown=False):\n",
    "        for name in files:\n",
    "            names.append(os.path.join(root, name))\n",
    "\n",
    "    counts = 0\n",
    "    means = 0\n",
    "    for f in tqdm(names):\n",
    "        try:\n",
    "            mat = np.load(f)\n",
    "            mat = mat.reshape(mat.shape[1], mat.shape[2])\n",
    "            # print(mat.shape)\n",
    "            v=  mat.shape[0] * mat.shape[1]\n",
    "            counts += np.array(v)\n",
    "            means += np.sum(mat.reshape(-1), axis=0)\n",
    "        except ValueError:\n",
    "            pass\n",
    "    means = means / counts\n",
    "\n",
    "    stds = 0\n",
    "    for f in tqdm(names):\n",
    "        try:\n",
    "            mat = np.load(f)\n",
    "            stds += np.sum( (mat.reshape(-1) - means)**2, axis=0)\n",
    "        except ValueError:\n",
    "            pass\n",
    "    stds = np.sqrt( stds / counts ) \n",
    "\n",
    "    return means, stds\n",
    "\n",
    "calculate_mean_std_2pass_low_memory(os.path.join(\"dataset\", \"train\"))"
   ]
  },
  {
   "cell_type": "code",
   "execution_count": null,
   "metadata": {},
   "outputs": [],
   "source": []
  }
 ],
 "metadata": {
  "kernelspec": {
   "display_name": "Python 3",
   "language": "python",
   "name": "python3"
  },
  "language_info": {
   "codemirror_mode": {
    "name": "ipython",
    "version": 3
   },
   "file_extension": ".py",
   "mimetype": "text/x-python",
   "name": "python",
   "nbconvert_exporter": "python",
   "pygments_lexer": "ipython3",
   "version": "3.10.6"
  },
  "orig_nbformat": 4
 },
 "nbformat": 4,
 "nbformat_minor": 2
}
